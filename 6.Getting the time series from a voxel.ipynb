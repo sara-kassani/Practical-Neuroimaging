{
 "cells": [
  {
   "cell_type": "markdown",
   "metadata": {},
   "source": [
    "### Getting the time series from a voxel"
   ]
  },
  {
   "cell_type": "markdown",
   "metadata": {},
   "source": [
    "Let's say I have a 4D image:"
   ]
  },
  {
   "cell_type": "code",
   "execution_count": 20,
   "metadata": {},
   "outputs": [],
   "source": [
    "import numpy as np\n",
    "\n",
    "import nibabel as nib"
   ]
  },
  {
   "cell_type": "code",
   "execution_count": 4,
   "metadata": {},
   "outputs": [
    {
     "data": {
      "text/plain": [
       "(64, 64, 30, 173)"
      ]
     },
     "execution_count": 4,
     "metadata": {},
     "output_type": "execute_result"
    }
   ],
   "source": [
    "img = nib.load('data/ds114_sub009_t2r1.nii', mmap=False)\n",
    "data = img.get_data()\n",
    "data.shape"
   ]
  },
  {
   "cell_type": "markdown",
   "metadata": {},
   "source": [
    "Each element slicing over the last dimension, is a 3D volume:"
   ]
  },
  {
   "cell_type": "code",
   "execution_count": 5,
   "metadata": {},
   "outputs": [
    {
     "data": {
      "text/plain": [
       "(64, 64, 30)"
      ]
     },
     "execution_count": 5,
     "metadata": {},
     "output_type": "execute_result"
    }
   ],
   "source": [
    "vol0 = data[..., 0]\n",
    "vol0.shape"
   ]
  },
  {
   "cell_type": "code",
   "execution_count": 6,
   "metadata": {},
   "outputs": [
    {
     "data": {
      "text/plain": [
       "(64, 64, 30)"
      ]
     },
     "execution_count": 6,
     "metadata": {},
     "output_type": "execute_result"
    }
   ],
   "source": [
    "vol1 = data[..., 1]\n",
    "vol1.shape"
   ]
  },
  {
   "cell_type": "markdown",
   "metadata": {},
   "source": [
    "The term *voxel* refers to a 3 dimensional pixel - a position in three dimensional space.\n",
    "\n",
    "These 3D volumes contain voxel values, for all of the 64, 64, 30 voxels, for a single time point.\n",
    "\n",
    "For example, let's say I was interested at the voxel at (i, j, k) coordinates (10, 23, 9):"
   ]
  },
  {
   "cell_type": "code",
   "execution_count": 7,
   "metadata": {},
   "outputs": [
    {
     "data": {
      "text/plain": [
       "30"
      ]
     },
     "execution_count": 7,
     "metadata": {},
     "output_type": "execute_result"
    }
   ],
   "source": [
    "vox_value = vol0[10, 23, 9]\n",
    "vox_value"
   ]
  },
  {
   "cell_type": "markdown",
   "metadata": {},
   "source": [
    "This value is the value for this voxel (voxel at 10, 23, 9) for this time point (first time point). This would be the value for the same voxel at the second time point (volume index 1):"
   ]
  },
  {
   "cell_type": "code",
   "execution_count": 8,
   "metadata": {},
   "outputs": [
    {
     "data": {
      "text/plain": [
       "17"
      ]
     },
     "execution_count": 8,
     "metadata": {},
     "output_type": "execute_result"
    }
   ],
   "source": [
    "vol1[10, 23, 9]"
   ]
  },
  {
   "cell_type": "markdown",
   "metadata": {},
   "source": [
    "Of course I could get the value for this voxel, at every time point, by doing a loop:"
   ]
  },
  {
   "cell_type": "code",
   "execution_count": 9,
   "metadata": {},
   "outputs": [
    {
     "data": {
      "text/plain": [
       "173"
      ]
     },
     "execution_count": 9,
     "metadata": {},
     "output_type": "execute_result"
    }
   ],
   "source": [
    "vox_values = []\n",
    "for i in range(data.shape[-1]):\n",
    "    vox_values.append(data[10, 23, 9, i])\n",
    "len(vox_values)"
   ]
  },
  {
   "cell_type": "code",
   "execution_count": 14,
   "metadata": {},
   "outputs": [
    {
     "data": {
      "text/plain": [
       "[30, 17, 22, 30, 40, 38, 26, 45, 47, 27, 32, 38, 33, 35, 21, 33, 33, 29]"
      ]
     },
     "execution_count": 14,
     "metadata": {},
     "output_type": "execute_result"
    }
   ],
   "source": [
    "vox_values[:18]"
   ]
  },
  {
   "cell_type": "markdown",
   "metadata": {},
   "source": [
    "I can get the same effect by slicing over the last dimension:"
   ]
  },
  {
   "cell_type": "code",
   "execution_count": 15,
   "metadata": {},
   "outputs": [],
   "source": [
    "sliced_vox_values = data[10, 23, 9, :]"
   ]
  },
  {
   "cell_type": "code",
   "execution_count": 16,
   "metadata": {},
   "outputs": [
    {
     "data": {
      "text/plain": [
       "array([30, 17, 22, 30, 40, 38, 26, 45, 47, 27, 32, 38, 33, 35, 21, 33, 33,\n",
       "       29, 27, 30, 43, 47, 40, 49, 34, 50, 31, 25, 31, 34, 39, 38, 42, 33,\n",
       "       36, 42, 59, 32, 25, 36, 35, 35, 41, 40, 38, 36, 44, 39, 19, 33, 47,\n",
       "       32, 19, 42, 41, 16, 34, 34, 35, 39, 27, 34, 29, 33, 22, 41, 31, 30,\n",
       "       38, 27, 31, 45, 42, 25, 30, 26, 39, 25, 25, 25, 28, 34, 34, 30, 26,\n",
       "       26, 31, 39, 46, 51, 35, 38, 39, 32, 32, 32, 27, 37, 33, 30, 28, 38,\n",
       "       37, 41, 22, 25, 44, 30, 33, 47, 30, 32, 29, 50, 39, 38, 38, 26, 26,\n",
       "       26, 42, 42, 34, 33, 34, 33, 45, 43, 45, 27, 36, 31, 30, 30, 32, 31,\n",
       "       33, 31, 36, 29, 31, 29, 44, 36, 40, 38, 33, 38, 28, 27, 36, 28, 27,\n",
       "       36, 42, 27, 26, 25, 31, 23, 33, 42, 30, 35, 32, 35, 42, 35, 35, 35,\n",
       "       41, 29, 30], dtype=int16)"
      ]
     },
     "execution_count": 16,
     "metadata": {},
     "output_type": "execute_result"
    }
   ],
   "source": [
    "sliced_vox_values"
   ]
  },
  {
   "cell_type": "code",
   "execution_count": 17,
   "metadata": {},
   "outputs": [
    {
     "data": {
      "text/plain": [
       "array([30, 17, 22, 30, 40, 38, 26, 45, 47, 27, 32, 38, 33, 35, 21],\n",
       "      dtype=int16)"
      ]
     },
     "execution_count": 17,
     "metadata": {},
     "output_type": "execute_result"
    }
   ],
   "source": [
    "sliced_vox_values[:15]"
   ]
  },
  {
   "cell_type": "code",
   "execution_count": 18,
   "metadata": {},
   "outputs": [
    {
     "data": {
      "text/plain": [
       "173"
      ]
     },
     "execution_count": 18,
     "metadata": {},
     "output_type": "execute_result"
    }
   ],
   "source": [
    "len(sliced_vox_values)"
   ]
  },
  {
   "cell_type": "code",
   "execution_count": 21,
   "metadata": {},
   "outputs": [
    {
     "data": {
      "text/plain": [
       "True"
      ]
     },
     "execution_count": 21,
     "metadata": {},
     "output_type": "execute_result"
    }
   ],
   "source": [
    "np.all(vox_values == sliced_vox_values)"
   ]
  }
 ],
 "metadata": {
  "kernelspec": {
   "display_name": "Python 3",
   "language": "python",
   "name": "python3"
  },
  "language_info": {
   "codemirror_mode": {
    "name": "ipython",
    "version": 3
   },
   "file_extension": ".py",
   "mimetype": "text/x-python",
   "name": "python",
   "nbconvert_exporter": "python",
   "pygments_lexer": "ipython3",
   "version": "3.6.5"
  }
 },
 "nbformat": 4,
 "nbformat_minor": 2
}
